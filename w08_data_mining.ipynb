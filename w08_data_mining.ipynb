{
  "nbformat": 4,
  "nbformat_minor": 0,
  "metadata": {
    "colab": {
      "provenance": []
    },
    "kernelspec": {
      "name": "python3",
      "display_name": "Python 3"
    },
    "language_info": {
      "name": "python"
    }
  },
  "cells": [
    {
      "cell_type": "code",
      "execution_count": null,
      "metadata": {
        "id": "uGVmFkO1j_C4"
      },
      "outputs": [],
      "source": [
        "\n",
        "import pandas as pd\n",
        "import numpy as np\n",
        "import matplotlib.pyplot as plt\n",
        "import seaborn as sns\n",
        "from sklearn.datasets import load_wine\n",
        "from sklearn.model_selection import train_test_split\n",
        "from sklearn.metrics import classification_report, confusion_matrix\n"
      ]
    },
    {
      "cell_type": "code",
      "source": [
        "wine = load_wine()\n",
        "df = pd.DataFrame(wine.data, columns=wine.feature_names)\n",
        "df['target'] = wine.target\n",
        "df.head()"
      ],
      "metadata": {
        "id": "AULB2lfKkErh"
      },
      "execution_count": null,
      "outputs": []
    },
    {
      "cell_type": "code",
      "source": [
        "df.info()\n",
        "df.describe()\n"
      ],
      "metadata": {
        "id": "zx4ySaxokNrA"
      },
      "execution_count": null,
      "outputs": []
    },
    {
      "cell_type": "code",
      "source": [
        "plt.figure(figsize=(8,5))\n",
        "sns.boxplot(x='target', y='alcohol', data=df)\n",
        "plt.title('Alcohol Content by Wine Class')\n",
        "plt.show()"
      ],
      "metadata": {
        "id": "Tq3EBQ03kQYx"
      },
      "execution_count": null,
      "outputs": []
    },
    {
      "cell_type": "code",
      "source": [
        "plt.figure(figsize=(8,6))\n",
        "sns.scatterplot(x='alcohol', y='color_intensity', hue='target', data=df)\n",
        "plt.title('Alcohol vs Color Intensity by Class')\n",
        "plt.show()"
      ],
      "metadata": {
        "id": "7SNszTmHkSs6"
      },
      "execution_count": null,
      "outputs": []
    },
    {
      "cell_type": "code",
      "source": [
        "class PrismRules:\n",
        "    def __init__(self):\n",
        "        self.rules = []\n",
        "\n",
        "    def fit(self, X, y):\n",
        "        data = pd.concat([X, y], axis=1)\n",
        "        class_labels = y.unique()\n",
        "\n",
        "        for c in class_labels:\n",
        "            subset = data[data[y.name] == c]\n",
        "            rest = data[data[y.name] != c]\n",
        "            while not subset.empty:\n",
        "                best_rule = None\n",
        "                best_acc = 0\n",
        "                conditions = []\n",
        "                remaining_features = list(X.columns)\n",
        "\n",
        "                while remaining_features:\n",
        "                    best_feature, best_value, best_acc_tmp = None, None, 0\n",
        "                    for f in remaining_features:\n",
        "                        for val in X[f].unique():\n",
        "                            covered = subset[subset[f] == val]\n",
        "                            acc = len(covered) / (len(X[X[f] == val]) + 1e-6)\n",
        "                            if acc > best_acc_tmp:\n",
        "                                best_feature, best_value, best_acc_tmp = f, val, acc\n",
        "                    if best_feature is None:\n",
        "                        break\n",
        "                    conditions.append((best_feature, best_value))\n",
        "                    remaining_features.remove(best_feature)\n",
        "                    subset = subset[subset[best_feature] == best_value]\n",
        "                    if len(subset) == 0:\n",
        "                        break\n",
        "                self.rules.append((conditions, c))\n",
        "\n",
        "    def predict(self, X):\n",
        "        preds = []\n",
        "        for _, row in X.iterrows():\n",
        "            found = False\n",
        "            for conds, label in self.rules:\n",
        "                if all(row[f] == v for f, v in conds):\n",
        "                    preds.append(label)\n",
        "                    found = True\n",
        "                    break\n",
        "            if not found:\n",
        "                preds.append(-1)\n",
        "        return preds"
      ],
      "metadata": {
        "id": "fyqZlekIkY1a"
      },
      "execution_count": null,
      "outputs": []
    },
    {
      "cell_type": "code",
      "source": [
        "X = df.drop(columns='target')\n",
        "y = df['target']\n",
        "\n",
        "X_train, X_test, y_train, y_test = train_test_split(X, y, test_size=0.3, random_state=42)\n",
        "\n",
        "prism = PrismRules()\n",
        "prism.fit(X_train, y_train)\n",
        "\n",
        "for rule in prism.rules:\n",
        "    print(rule)"
      ],
      "metadata": {
        "id": "A8v7Sa_ykkNS"
      },
      "execution_count": null,
      "outputs": []
    },
    {
      "cell_type": "code",
      "source": [
        "y_pred = prism.predict(X_test)\n",
        "print(confusion_matrix(y_test, y_pred))\n",
        "print(classification_report(y_test, y_pred))"
      ],
      "metadata": {
        "id": "CAkJVqFhkqQr"
      },
      "execution_count": null,
      "outputs": []
    },
    {
      "cell_type": "code",
      "source": [
        "new_data = pd.DataFrame({\n",
        "   'alcohol': [14.0, 14.00],\n",
        "   'malic_acid': [2.0, 2.0],\n",
        "   'ash': [2.3, 2.2],\n",
        "   'alcalinity_of_ash': [19.0, 11.0],\n",
        "   'magnesium': [95.0, 95.0],\n",
        "   'total_phenols': [2.2, 2.5],\n",
        "   'flavanoids': [0.14, 0.5],\n",
        "   'nonflavanoid_phenols': [0.14, 0.5],\n",
        "   'proanthocyanins': [1.6, 1.5],\n",
        "   'color_intensity': [7.0, 6.0],\n",
        "   'hue': [0.7, 0.6],\n",
        "   'od280/od315_of_diluted_wines': [3.2, 3.0],\n",
        "   'proline': [550.0, 1400.0]\n",
        "})"
      ],
      "metadata": {
        "id": "EkbQd6DikyiW"
      },
      "execution_count": null,
      "outputs": []
    }
  ]
}